{
 "cells": [
  {
   "cell_type": "markdown",
   "id": "0f9628a2",
   "metadata": {},
   "source": [
    "# DOCUMENTACION DEL TABLON DE OPUS\n",
    "\n",
    "<br><br><br>\n"
   ]
  },
  {
   "cell_type": "markdown",
   "id": "90ffc906",
   "metadata": {},
   "source": [
    " "
   ]
  },
  {
   "cell_type": "markdown",
   "id": "0f8b511f",
   "metadata": {},
   "source": [
    "**El proyecto esta montado en el servidor con IP**\n",
    "\n",
    "\n",
    "**82.165.212.69**\n",
    "\n",
    "<br>\n",
    "\n",
    "La manera de conectarse es\n",
    "\n",
    "SSH root@82.165.212.69\n",
    "1d7dkcrL   \n",
    "\n",
    "\n",
    "<br>\n",
    "luego escribimos la password para acceder a la consola del servidor\n",
    "\n",
    "Dentro del servidor el proyecto se encuentra en \n",
    "\n",
    "\n",
    "```/var/www/FlaskApp/FlaskApp/```\n",
    "\n",
    "En caso de querer trabajar con el"
   ]
  },
  {
   "cell_type": "markdown",
   "id": "42761ded",
   "metadata": {},
   "source": [
    "  "
   ]
  },
  {
   "cell_type": "markdown",
   "id": "ad6f7aed",
   "metadata": {},
   "source": [
    "## Error comunes\n",
    "\n",
    "**Normalmente el servidor llega a tener puntos donde apache se detiene y se cae el proyecto**\n",
    "\n",
    "<br>\n",
    "no hay mas complicacion que acceder a la consola \n",
    "\n",
    "\n",
    "`root@ubuntu:~# sudo service apache2 restart`\n",
    "\n",
    "**y reiniciar el apache2 del sistema, tarda un minuto o dos y queda restablecido el proyecto**"
   ]
  },
  {
   "cell_type": "markdown",
   "id": "d730dd75",
   "metadata": {},
   "source": [
    " "
   ]
  },
  {
   "cell_type": "markdown",
   "id": "a2e1aa51",
   "metadata": {},
   "source": [
    " "
   ]
  },
  {
   "cell_type": "markdown",
   "id": "7ee87e9d",
   "metadata": {},
   "source": [
    " "
   ]
  },
  {
   "cell_type": "markdown",
   "id": "6c326ddd",
   "metadata": {},
   "source": [
    "# Descripcion de la plantilla del codigo"
   ]
  },
  {
   "cell_type": "code",
   "execution_count": null,
   "id": "5d7cb3b6",
   "metadata": {},
   "outputs": [],
   "source": []
  }
 ],
 "metadata": {
  "kernelspec": {
   "display_name": "Python 3 (ipykernel)",
   "language": "python",
   "name": "python3"
  },
  "language_info": {
   "codemirror_mode": {
    "name": "ipython",
    "version": 3
   },
   "file_extension": ".py",
   "mimetype": "text/x-python",
   "name": "python",
   "nbconvert_exporter": "python",
   "pygments_lexer": "ipython3",
   "version": "3.8.16"
  }
 },
 "nbformat": 4,
 "nbformat_minor": 5
}
